{
 "cells": [
  {
   "cell_type": "code",
   "execution_count": 1,
   "id": "150881b2",
   "metadata": {
    "scrolled": true
   },
   "outputs": [
    {
     "name": "stderr",
     "output_type": "stream",
     "text": [
      "\n"
     ]
    }
   ],
   "source": [
    "import numpy as np\n",
    "import os\n",
    "import pandas as pd\n",
    "import random\n",
    "from collections import defaultdict\n",
    "import gym\n",
    "import gym_minigrid\n",
    "import matplotlib.pyplot as plt\n",
    "%matplotlib inline"
   ]
  },
  {
   "cell_type": "code",
   "execution_count": 2,
   "id": "bb3475c0",
   "metadata": {
    "scrolled": true
   },
   "outputs": [],
   "source": [
    "class QLearning:\n",
    "    def __init__(self, actions, agent_indicator=10):\n",
    "        self.actions = actions\n",
    "        self.agent_indicator = agent_indicator\n",
    "        self.alpha = 0.01\n",
    "        self.gamma = 0.9\n",
    "        self.epsilon = 0.2\n",
    "        self.q_values = defaultdict(lambda: [0.0] * actions)\n",
    "        \n",
    "    def _convert_state(self, s):\n",
    "        return np.where(s == self.agent_indicator)[0][0]\n",
    "        \n",
    "    def update(self, state, action, reward, next_state, next_action):\n",
    "        state = self._convert_state(state)\n",
    "        next_state = self._convert_state(next_state)\n",
    "        \n",
    "        q_value = self.q_values[state][action]\n",
    "\n",
    "        ################## write code ################################\n",
    "        next_q_value = max(self.q_values[next_state])\n",
    "        \n",
    "        td_error = reward + self.gamma * next_q_value - q_value\n",
    "        self.q_values[state][action] = q_value + self.alpha * td_error\n",
    "        ##############################################################\n",
    "    \n",
    "    def act(self, state):\n",
    "        if np.random.rand() < self.epsilon:\n",
    "            action = np.random.choice(self.actions)\n",
    "        else:\n",
    "            state = self._convert_state(state)\n",
    "            q_values = self.q_values[state]\n",
    "            action = np.argmax(q_values)\n",
    "        return action"
   ]
  },
  {
   "cell_type": "code",
   "execution_count": 3,
   "id": "90706d6e",
   "metadata": {
    "scrolled": true
   },
   "outputs": [],
   "source": [
    "from utils import gen_wrapped_env, show_video"
   ]
  },
  {
   "cell_type": "code",
   "execution_count": 4,
   "id": "d048dbff",
   "metadata": {
    "scrolled": true
   },
   "outputs": [],
   "source": [
    "env = gen_wrapped_env('MiniGrid-Empty-6x6-v0')\n",
    "\n",
    "obs = env.reset()\n",
    "\n",
    "agent_position = obs[0]\n",
    "\n",
    "agent = QLearning(3, agent_position)"
   ]
  },
  {
   "cell_type": "markdown",
   "id": "e79aa8d2-fca8-4b2e-8127-d4c0469c52d1",
   "metadata": {},
   "source": [
    "## For Q-Learning\n",
    "+ Q-learning update"
   ]
  },
  {
   "cell_type": "code",
   "execution_count": 5,
   "id": "f7e8c55c",
   "metadata": {
    "scrolled": true
   },
   "outputs": [
    {
     "name": "stdout",
     "output_type": "stream",
     "text": [
      "episode: 20, rewards: 0\n",
      "episode: 40, rewards: 0\n",
      "episode: 60, rewards: 0\n",
      "episode: 80, rewards: 0\n",
      "episode: 100, rewards: 0\n",
      "episode: 120, rewards: 0\n",
      "episode: 140, rewards: 0\n",
      "episode: 160, rewards: 0\n",
      "episode: 180, rewards: 0\n",
      "episode: 200, rewards: 0\n",
      "episode: 220, rewards: 0\n",
      "episode: 240, rewards: 0\n",
      "episode: 260, rewards: 0\n",
      "episode: 280, rewards: 0\n",
      "episode: 300, rewards: 0\n",
      "episode: 320, rewards: 0\n",
      "episode: 340, rewards: 0\n",
      "episode: 360, rewards: 0\n",
      "episode: 380, rewards: 0\n",
      "episode: 400, rewards: 0\n",
      "episode: 420, rewards: 0\n",
      "episode: 440, rewards: 0\n",
      "episode: 460, rewards: 0\n",
      "episode: 480, rewards: 0\n",
      "episode: 500, rewards: 0\n",
      "episode: 520, rewards: 0\n",
      "episode: 540, rewards: 0\n",
      "episode: 560, rewards: 0\n",
      "episode: 580, rewards: 0\n",
      "episode: 600, rewards: 0\n",
      "episode: 620, rewards: 0\n",
      "episode: 640, rewards: 0\n",
      "episode: 660, rewards: 0\n",
      "episode: 680, rewards: 0\n",
      "episode: 700, rewards: 0\n",
      "episode: 720, rewards: 0\n",
      "episode: 740, rewards: 0\n",
      "episode: 760, rewards: 0\n",
      "episode: 780, rewards: 0\n",
      "episode: 800, rewards: 0\n",
      "episode: 820, rewards: 0\n",
      "episode: 840, rewards: 0\n",
      "episode: 860, rewards: 0\n",
      "episode: 880, rewards: 0\n",
      "episode: 900, rewards: 0\n",
      "episode: 920, rewards: 0\n",
      "episode: 940, rewards: 0\n",
      "episode: 960, rewards: 0\n",
      "episode: 980, rewards: 0\n",
      "episode: 1000, rewards: 0\n",
      "episode: 1020, rewards: 0\n",
      "episode: 1040, rewards: 0\n",
      "episode: 1060, rewards: 0\n",
      "episode: 1080, rewards: 0\n",
      "episode: 1100, rewards: 0\n",
      "episode: 1120, rewards: 0\n",
      "episode: 1140, rewards: 0\n",
      "episode: 1160, rewards: 0\n",
      "episode: 1180, rewards: 0\n",
      "episode: 1200, rewards: 0\n",
      "episode: 1220, rewards: 0\n",
      "episode: 1240, rewards: 0\n",
      "episode: 1260, rewards: 0\n",
      "episode: 1280, rewards: 0\n",
      "episode: 1300, rewards: 0\n",
      "episode: 1320, rewards: 0\n",
      "episode: 1340, rewards: 0\n",
      "episode: 1360, rewards: 0\n",
      "episode: 1380, rewards: 0\n",
      "episode: 1400, rewards: 0\n",
      "episode: 1420, rewards: 0\n",
      "episode: 1440, rewards: 0\n",
      "episode: 1460, rewards: 0\n",
      "episode: 1480, rewards: 0\n",
      "episode: 1500, rewards: 0\n",
      "episode: 1520, rewards: 0\n",
      "episode: 1540, rewards: 0\n",
      "episode: 1560, rewards: 0\n",
      "episode: 1580, rewards: 0\n",
      "episode: 1600, rewards: 0\n",
      "episode: 1620, rewards: 0\n",
      "episode: 1640, rewards: 0\n",
      "episode: 1660, rewards: 0\n",
      "episode: 1680, rewards: 0\n",
      "episode: 1700, rewards: 0\n",
      "episode: 1720, rewards: 0\n",
      "episode: 1740, rewards: 0\n",
      "episode: 1760, rewards: 0\n",
      "episode: 1780, rewards: 0\n",
      "episode: 1800, rewards: 0\n",
      "episode: 1820, rewards: 0\n",
      "episode: 1840, rewards: 0\n",
      "episode: 1860, rewards: 0.622\n",
      "episode: 1880, rewards: 0\n",
      "episode: 1900, rewards: 0\n",
      "episode: 1920, rewards: 0\n",
      "episode: 1940, rewards: 0\n",
      "episode: 1960, rewards: 0.37\n",
      "episode: 1980, rewards: 0\n",
      "episode: 2000, rewards: 0.37\n",
      "episode: 2020, rewards: 0.874\n",
      "episode: 2040, rewards: 0.784\n",
      "episode: 2060, rewards: 0.118\n",
      "episode: 2080, rewards: 0\n",
      "episode: 2100, rewards: 0.20799999999999996\n",
      "episode: 2120, rewards: 0.874\n",
      "episode: 2140, rewards: 0\n",
      "episode: 2160, rewards: 0.586\n",
      "episode: 2180, rewards: 0.532\n",
      "episode: 2200, rewards: 0.55\n",
      "episode: 2220, rewards: 0\n",
      "episode: 2240, rewards: 0\n",
      "episode: 2260, rewards: 0.18999999999999995\n",
      "episode: 2280, rewards: 0.586\n",
      "episode: 2300, rewards: 0\n",
      "episode: 2320, rewards: 0.82\n",
      "episode: 2340, rewards: 0.838\n",
      "episode: 2360, rewards: 0.6759999999999999\n",
      "episode: 2380, rewards: 0.6399999999999999\n",
      "episode: 2400, rewards: 0.604\n",
      "episode: 2420, rewards: 0.784\n",
      "episode: 2440, rewards: 0.3879999999999999\n",
      "episode: 2460, rewards: 0\n",
      "episode: 2480, rewards: 0.586\n",
      "episode: 2500, rewards: 0.586\n",
      "episode: 2520, rewards: 0\n",
      "episode: 2540, rewards: 0\n",
      "episode: 2560, rewards: 0\n",
      "episode: 2580, rewards: 0.4959999999999999\n",
      "episode: 2600, rewards: 0.604\n",
      "episode: 2620, rewards: 0\n",
      "episode: 2640, rewards: 0.712\n",
      "episode: 2660, rewards: 0\n",
      "episode: 2680, rewards: 0.82\n",
      "episode: 2700, rewards: 0.20799999999999996\n",
      "episode: 2720, rewards: 0\n",
      "episode: 2740, rewards: 0.514\n",
      "episode: 2760, rewards: 0.262\n",
      "episode: 2780, rewards: 0\n",
      "episode: 2800, rewards: 0.31599999999999995\n",
      "episode: 2820, rewards: 0\n",
      "episode: 2840, rewards: 0\n",
      "episode: 2860, rewards: 0\n",
      "episode: 2880, rewards: 0.6759999999999999\n",
      "episode: 2900, rewards: 0\n",
      "episode: 2920, rewards: 0.3879999999999999\n",
      "episode: 2940, rewards: 0.784\n",
      "episode: 2960, rewards: 0\n",
      "episode: 2980, rewards: 0.874\n",
      "episode: 3000, rewards: 0.42399999999999993\n",
      "episode: 3020, rewards: 0\n",
      "episode: 3040, rewards: 0.784\n",
      "episode: 3060, rewards: 0.802\n",
      "episode: 3080, rewards: 0\n",
      "episode: 3100, rewards: 0.82\n",
      "episode: 3120, rewards: 0\n",
      "episode: 3140, rewards: 0\n",
      "episode: 3160, rewards: 0\n",
      "episode: 3180, rewards: 0\n",
      "episode: 3200, rewards: 0\n",
      "episode: 3220, rewards: 0.2799999999999999\n",
      "episode: 3240, rewards: 0\n",
      "episode: 3260, rewards: 0.73\n",
      "episode: 3280, rewards: 0\n",
      "episode: 3300, rewards: 0.262\n",
      "episode: 3320, rewards: 0.262\n",
      "episode: 3340, rewards: 0\n",
      "episode: 3360, rewards: 0\n",
      "episode: 3380, rewards: 0.874\n",
      "episode: 3400, rewards: 0.784\n",
      "episode: 3420, rewards: 0.784\n",
      "episode: 3440, rewards: 0.874\n",
      "episode: 3460, rewards: 0.262\n",
      "episode: 3480, rewards: 0\n",
      "episode: 3500, rewards: 0.33399999999999996\n",
      "episode: 3520, rewards: 0.6759999999999999\n",
      "episode: 3540, rewards: 0.45999999999999996\n",
      "episode: 3560, rewards: 0.856\n",
      "episode: 3580, rewards: 0.622\n",
      "episode: 3600, rewards: 0\n",
      "episode: 3620, rewards: 0.784\n",
      "episode: 3640, rewards: 0.136\n",
      "episode: 3660, rewards: 0\n",
      "episode: 3680, rewards: 0\n",
      "episode: 3700, rewards: 0\n",
      "episode: 3720, rewards: 0.31599999999999995\n",
      "episode: 3740, rewards: 0.766\n",
      "episode: 3760, rewards: 0\n",
      "episode: 3780, rewards: 0\n",
      "episode: 3800, rewards: 0.748\n",
      "episode: 3820, rewards: 0\n",
      "episode: 3840, rewards: 0.694\n",
      "episode: 3860, rewards: 0\n",
      "episode: 3880, rewards: 0.82\n",
      "episode: 3900, rewards: 0\n",
      "episode: 3920, rewards: 0\n",
      "episode: 3940, rewards: 0.874\n",
      "episode: 3960, rewards: 0\n",
      "episode: 3980, rewards: 0.82\n",
      "episode: 4000, rewards: 0\n",
      "episode: 4020, rewards: 0.4059999999999999\n",
      "episode: 4040, rewards: 0.37\n",
      "episode: 4060, rewards: 0\n",
      "episode: 4080, rewards: 0\n",
      "episode: 4100, rewards: 0\n",
      "episode: 4120, rewards: 0\n",
      "episode: 4140, rewards: 0\n",
      "episode: 4160, rewards: 0.82\n",
      "episode: 4180, rewards: 0\n",
      "episode: 4200, rewards: 0.45999999999999996\n",
      "episode: 4220, rewards: 0.748\n",
      "episode: 4240, rewards: 0.6399999999999999\n",
      "episode: 4260, rewards: 0\n",
      "episode: 4280, rewards: 0\n",
      "episode: 4300, rewards: 0.45999999999999996\n",
      "episode: 4320, rewards: 0.44199999999999995\n",
      "episode: 4340, rewards: 0.874\n",
      "episode: 4360, rewards: 0.586\n",
      "episode: 4380, rewards: 0.514\n",
      "episode: 4400, rewards: 0.352\n",
      "episode: 4420, rewards: 0\n",
      "episode: 4440, rewards: 0\n",
      "episode: 4460, rewards: 0\n",
      "episode: 4480, rewards: 0\n",
      "episode: 4500, rewards: 0\n",
      "episode: 4520, rewards: 0\n",
      "episode: 4540, rewards: 0.82\n",
      "episode: 4560, rewards: 0\n",
      "episode: 4580, rewards: 0\n",
      "episode: 4600, rewards: 0.09999999999999998\n",
      "episode: 4620, rewards: 0\n",
      "episode: 4640, rewards: 0\n",
      "episode: 4660, rewards: 0\n",
      "episode: 4680, rewards: 0\n",
      "episode: 4700, rewards: 0.45999999999999996\n",
      "episode: 4720, rewards: 0.4959999999999999\n",
      "episode: 4740, rewards: 0\n",
      "episode: 4760, rewards: 0\n",
      "episode: 4780, rewards: 0.6759999999999999\n",
      "episode: 4800, rewards: 0.478\n",
      "episode: 4820, rewards: 0.874\n",
      "episode: 4840, rewards: 0.33399999999999996\n",
      "episode: 4860, rewards: 0.622\n",
      "episode: 4880, rewards: 0.6579999999999999\n",
      "episode: 4900, rewards: 0.6759999999999999\n",
      "episode: 4920, rewards: 0.784\n",
      "episode: 4940, rewards: 0\n",
      "episode: 4960, rewards: 0\n",
      "episode: 4980, rewards: 0.352\n",
      "episode: 5000, rewards: 0.838\n"
     ]
    }
   ],
   "source": [
    "rewards = []\n",
    "for ep in range(20000):\n",
    "    done = False\n",
    "    obs = env.reset()\n",
    "    action = agent.act(obs)\n",
    "    \n",
    "    ep_rewards = 0\n",
    "    while not done:\n",
    "        next_obs, reward, done, info = env.step(action)\n",
    "\n",
    "        next_action = agent.act(next_obs)\n",
    "\n",
    "        agent.update(obs, action, reward, next_obs, next_action)\n",
    "        \n",
    "        ep_rewards += reward\n",
    "        obs = next_obs\n",
    "        action = next_action\n",
    "    rewards.append(ep_rewards)\n",
    "    if (ep+1) % 20 == 0:\n",
    "        print(\"episode: {}, rewards: {}\".format(ep+1, ep_rewards))\n",
    "env.close()"
   ]
  },
  {
   "cell_type": "code",
   "execution_count": 6,
   "id": "a086e2cd",
   "metadata": {},
   "outputs": [
    {
     "data": {
      "text/plain": [
       "{0: [0.03185, 0.03167, 0.0361],\n",
       " 12: [0.05237, 0.05194, 0.06677],\n",
       " 24: [0.07344, 0.07307, 0.08784],\n",
       " 3: [0.01424, 0.01263, 0.03008],\n",
       " 15: [0.0088, 0.01116, 0.07706],\n",
       " 27: [0.02789, 0.02944, 0.18401],\n",
       " 6: [0.01516, 0.01693, 0.03521],\n",
       " 36: [0.09193, 0.09225, 0.0986],\n",
       " 18: [0.02119, 0.01081, 0.1172],\n",
       " 9: [0.03664, 0.03615, 0.04808],\n",
       " 39: [0.31426, 0.30873, 0.39775],\n",
       " 21: [0.09426, 0.10079, 0.18409],\n",
       " 30: [0.04281, 0.05265, 0.26317],\n",
       " 42: [0.39677, 0.39995, 0.53404],\n",
       " 33: [0.22949, 0.20772, 0.33347],\n",
       " 45: [0.0, 0.0, 0.0]}"
      ]
     },
     "execution_count": 6,
     "metadata": {},
     "output_type": "execute_result"
    }
   ],
   "source": [
    "{s:np.round(q, 5).tolist() for s, q in agent.q_values.items()}"
   ]
  },
  {
   "cell_type": "code",
   "execution_count": 14,
   "id": "77e3015b",
   "metadata": {},
   "outputs": [
    {
     "data": {
      "text/html": [
       "<video alt=\"test\" autoplay \n",
       "                loop controls style=\"height: 400px;\">\n",
       "                <source src=\"data:video/mp4;base64,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\" type=\"video/mp4\" />\n",
       "             </video>"
      ],
      "text/plain": [
       "<IPython.core.display.HTML object>"
      ]
     },
     "metadata": {},
     "output_type": "display_data"
    }
   ],
   "source": [
    "show_video()"
   ]
  },
  {
   "cell_type": "code",
   "execution_count": 11,
   "id": "42787cff",
   "metadata": {},
   "outputs": [],
   "source": [
    "os.makedirs('./logs', exist_ok=True)\n",
    "pd.Series(rewards).to_csv('./logs/rewards_qlearning.csv')"
   ]
  },
  {
   "cell_type": "code",
   "execution_count": 12,
   "id": "da141489",
   "metadata": {},
   "outputs": [],
   "source": [
    "sarsa_logs = pd.read_csv('./logs/rewards_sarsa.csv', index_col=False).iloc[:, 1]\n",
    "q_logs = pd.read_csv('./logs/rewards_qlearning.csv', index_col=False).iloc[:, 1]"
   ]
  },
  {
   "cell_type": "code",
   "execution_count": 13,
   "id": "43dc92ab",
   "metadata": {},
   "outputs": [
    {
     "data": {
      "text/plain": [
       "<matplotlib.legend.Legend at 0x7f352803da60>"
      ]
     },
     "execution_count": 13,
     "metadata": {},
     "output_type": "execute_result"
    },
    {
     "data": {
      "image/png": "[encoded data removed]",
      "text/plain": [
       "<Figure size 1600x800 with 1 Axes>"
      ]
     },
     "metadata": {},
     "output_type": "display_data"
    }
   ],
   "source": [
    "plt.figure(figsize=(16, 8))\n",
    "plt.plot(q_logs.cumsum() / (pd.Series(np.arange(q_logs.shape[0]))+1), label=\"QLearning\")\n",
    "plt.plot(sarsa_logs.cumsum() / (pd.Series(np.arange(sarsa_logs.shape[0]))+1), label=\"SARSA\")\n",
    "plt.legend()"
   ]
  },
  {
   "cell_type": "code",
   "execution_count": null,
   "id": "69d2dad1",
   "metadata": {},
   "outputs": [],
   "source": []
  },
  {
   "cell_type": "code",
   "execution_count": null,
   "id": "a1ab15f2",
   "metadata": {},
   "outputs": [],
   "source": []
  }
 ],
 "metadata": {
  "kernelspec": {
   "display_name": "Python 3",
   "language": "python",
   "name": "python3"
  },
  "language_info": {
   "codemirror_mode": {
    "name": "ipython",
    "version": 3
   },
   "file_extension": ".py",
   "mimetype": "text/x-python",
   "name": "python",
   "nbconvert_exporter": "python",
   "pygments_lexer": "ipython3",
   "version": "3.8.10"
  }
 },
 "nbformat": 4,
 "nbformat_minor": 5
}
