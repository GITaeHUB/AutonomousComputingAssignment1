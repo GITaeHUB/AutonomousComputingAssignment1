{
 "cells": [
  {
   "cell_type": "code",
   "execution_count": 1,
   "id": "150881b2",
   "metadata": {
    "scrolled": true
   },
   "outputs": [
    {
     "name": "stderr",
     "output_type": "stream",
     "text": [
      "\n"
     ]
    }
   ],
   "source": [
    "import numpy as np\n",
    "import os\n",
    "import pandas as pd\n",
    "import random\n",
    "from collections import defaultdict\n",
    "import gym\n",
    "import gym_minigrid\n",
    "import matplotlib.pyplot as plt\n",
    "%matplotlib inline"
   ]
  },
  {
   "cell_type": "code",
   "execution_count": 2,
   "id": "bb3475c0",
   "metadata": {
    "scrolled": true
   },
   "outputs": [],
   "source": [
    "class QLearning:\n",
    "    def __init__(self, actions, agent_indicator=10):\n",
    "        self.actions = actions\n",
    "        self.agent_indicator = agent_indicator\n",
    "        self.alpha = 0.1\n",
    "        self.gamma = 0.9\n",
    "        self.epsilon = 0.9\n",
    "        self.q_values = defaultdict(lambda: [0.0] * actions)\n",
    "        \n",
    "    def _convert_state(self, s):\n",
    "        return np.where(s == self.agent_indicator)[0][0]\n",
    "        \n",
    "    def update(self, state, action, reward, next_state, next_action):\n",
    "        state = self._convert_state(state)\n",
    "        next_state = self._convert_state(next_state)\n",
    "        \n",
    "        q_value = self.q_values[state][action]\n",
    "\n",
    "        ################## write code ################################\n",
    "        next_q_value = max(self.q_values[next_state])\n",
    "        \n",
    "        td_error = reward + self.gamma * next_q_value - q_value\n",
    "        self.q_values[state][action] = q_value + self.alpha * td_error\n",
    "        ##############################################################\n",
    "    \n",
    "    def act(self, state):\n",
    "        if np.random.rand() < self.epsilon:\n",
    "            action = np.random.choice(self.actions)\n",
    "        else:\n",
    "            state = self._convert_state(state)\n",
    "            q_values = self.q_values[state]\n",
    "            action = np.argmax(q_values)\n",
    "        return action\n",
    "        \n",
    "    def update_epsilon(self):\n",
    "        # epsilon 값 매 에피소드마다 감소\n",
    "        self.epsilon = max(0.1, self.epsilon * 0.995)\n",
    "\n"
   ]
  },
  {
   "cell_type": "code",
   "execution_count": 3,
   "id": "90706d6e",
   "metadata": {
    "scrolled": true
   },
   "outputs": [],
   "source": [
    "from utils import gen_wrapped_env, show_video"
   ]
  },
  {
   "cell_type": "code",
   "execution_count": 4,
   "id": "d048dbff",
   "metadata": {
    "scrolled": true
   },
   "outputs": [],
   "source": [
    "env = gen_wrapped_env('MiniGrid-SimpleCrossingS9N1-v0')\n",
    "\n",
    "obs = env.reset()\n",
    "\n",
    "agent_position = obs[0]\n",
    "\n",
    "agent = QLearning(3, agent_position)"
   ]
  },
  {
   "cell_type": "markdown",
   "id": "e79aa8d2-fca8-4b2e-8127-d4c0469c52d1",
   "metadata": {},
   "source": [
    "## For Q-Learning\n",
    "+ Q-learning update"
   ]
  },
  {
   "cell_type": "code",
   "execution_count": null,
   "id": "f7e8c55c",
   "metadata": {
    "scrolled": true
   },
   "outputs": [
    {
     "name": "stdout",
     "output_type": "stream",
     "text": [
      "episode: 20, rewards: 0\n",
      "episode: 40, rewards: 0\n",
      "episode: 60, rewards: 0.136\n",
      "episode: 80, rewards: 0\n",
      "episode: 100, rewards: 0.622\n",
      "episode: 120, rewards: 0.802\n",
      "episode: 140, rewards: 0\n",
      "episode: 160, rewards: 0\n",
      "episode: 180, rewards: 0\n",
      "episode: 200, rewards: 0\n",
      "episode: 220, rewards: 0\n",
      "episode: 240, rewards: 0\n",
      "episode: 260, rewards: 0.604\n",
      "episode: 280, rewards: 0\n",
      "episode: 300, rewards: 0.29799999999999993\n",
      "episode: 320, rewards: 0.766\n",
      "episode: 340, rewards: 0.37\n",
      "episode: 360, rewards: 0\n",
      "episode: 380, rewards: 0.73\n",
      "episode: 400, rewards: 0.3879999999999999\n",
      "episode: 420, rewards: 0.514\n",
      "episode: 440, rewards: 0.6579999999999999\n",
      "episode: 460, rewards: 0\n",
      "episode: 480, rewards: 0\n",
      "episode: 500, rewards: 0\n",
      "episode: 520, rewards: 0\n",
      "episode: 540, rewards: 0\n",
      "episode: 560, rewards: 0.694\n",
      "episode: 580, rewards: 0\n",
      "episode: 600, rewards: 0.44199999999999995\n",
      "episode: 620, rewards: 0\n",
      "episode: 640, rewards: 0\n",
      "episode: 660, rewards: 0\n",
      "episode: 680, rewards: 0\n",
      "episode: 700, rewards: 0.45999999999999996\n",
      "episode: 720, rewards: 0\n",
      "episode: 740, rewards: 0\n",
      "episode: 760, rewards: 0\n",
      "episode: 780, rewards: 0\n",
      "episode: 800, rewards: 0\n",
      "episode: 820, rewards: 0\n",
      "episode: 840, rewards: 0\n",
      "episode: 860, rewards: 0\n",
      "episode: 880, rewards: 0\n",
      "episode: 900, rewards: 0.6399999999999999\n",
      "episode: 920, rewards: 0.42399999999999993\n",
      "episode: 940, rewards: 0\n",
      "episode: 960, rewards: 0\n",
      "episode: 980, rewards: 0\n",
      "episode: 1000, rewards: 0\n",
      "episode: 1020, rewards: 0\n",
      "episode: 1040, rewards: 0\n",
      "episode: 1060, rewards: 0.532\n",
      "episode: 1080, rewards: 0\n",
      "episode: 1100, rewards: 0\n",
      "episode: 1120, rewards: 0\n",
      "episode: 1140, rewards: 0\n",
      "episode: 1160, rewards: 0.2799999999999999\n",
      "episode: 1180, rewards: 0\n",
      "episode: 1200, rewards: 0\n",
      "episode: 1220, rewards: 0.136\n",
      "episode: 1240, rewards: 0\n",
      "episode: 1260, rewards: 0.45999999999999996\n",
      "episode: 1280, rewards: 0\n",
      "episode: 1300, rewards: 0\n",
      "episode: 1320, rewards: 0.15400000000000003\n",
      "episode: 1340, rewards: 0.37\n",
      "episode: 1360, rewards: 0.5680000000000001\n",
      "episode: 1380, rewards: 0\n",
      "episode: 1400, rewards: 0\n",
      "episode: 1420, rewards: 0\n",
      "episode: 1440, rewards: 0\n",
      "episode: 1460, rewards: 0\n",
      "episode: 1480, rewards: 0.622\n",
      "episode: 1500, rewards: 0.17199999999999993\n",
      "episode: 1520, rewards: 0\n",
      "episode: 1540, rewards: 0\n",
      "episode: 1560, rewards: 0\n",
      "episode: 1580, rewards: 0\n",
      "episode: 1600, rewards: 0.622\n",
      "episode: 1620, rewards: 0.45999999999999996\n",
      "episode: 1640, rewards: 0.136\n",
      "episode: 1660, rewards: 0.784\n",
      "episode: 1680, rewards: 0\n",
      "episode: 1700, rewards: 0\n",
      "episode: 1720, rewards: 0\n",
      "episode: 1740, rewards: 0\n",
      "episode: 1760, rewards: 0.15400000000000003\n",
      "episode: 1780, rewards: 0\n",
      "episode: 1800, rewards: 0\n",
      "episode: 1820, rewards: 0\n",
      "episode: 1840, rewards: 0\n",
      "episode: 1860, rewards: 0.55\n",
      "episode: 1880, rewards: 0.748\n",
      "episode: 1900, rewards: 0.478\n",
      "episode: 1920, rewards: 0.09999999999999998\n",
      "episode: 1940, rewards: 0\n",
      "episode: 1960, rewards: 0\n",
      "episode: 1980, rewards: 0\n",
      "episode: 2000, rewards: 0\n",
      "episode: 2020, rewards: 0.5680000000000001\n",
      "episode: 2040, rewards: 0.532\n",
      "episode: 2060, rewards: 0.4959999999999999\n",
      "episode: 2080, rewards: 0\n",
      "episode: 2100, rewards: 0\n",
      "episode: 2120, rewards: 0.4059999999999999\n",
      "episode: 2140, rewards: 0\n",
      "episode: 2160, rewards: 0\n",
      "episode: 2180, rewards: 0\n",
      "episode: 2200, rewards: 0.838\n",
      "episode: 2220, rewards: 0\n",
      "episode: 2240, rewards: 0\n",
      "episode: 2260, rewards: 0\n",
      "episode: 2280, rewards: 0\n",
      "episode: 2300, rewards: 0\n",
      "episode: 2320, rewards: 0\n",
      "episode: 2340, rewards: 0\n",
      "episode: 2360, rewards: 0\n",
      "episode: 2380, rewards: 0.118\n",
      "episode: 2400, rewards: 0.31599999999999995\n",
      "episode: 2420, rewards: 0.262\n",
      "episode: 2440, rewards: 0\n",
      "episode: 2460, rewards: 0.4059999999999999\n",
      "episode: 2480, rewards: 0\n",
      "episode: 2500, rewards: 0\n",
      "episode: 2520, rewards: 0\n",
      "episode: 2540, rewards: 0\n",
      "episode: 2560, rewards: 0.6579999999999999\n",
      "episode: 2580, rewards: 0\n",
      "episode: 2600, rewards: 0\n",
      "episode: 2620, rewards: 0.2799999999999999\n",
      "episode: 2640, rewards: 0.748\n",
      "episode: 2660, rewards: 0\n",
      "episode: 2680, rewards: 0\n",
      "episode: 2700, rewards: 0\n",
      "episode: 2720, rewards: 0\n",
      "episode: 2740, rewards: 0\n",
      "episode: 2760, rewards: 0.802\n",
      "episode: 2780, rewards: 0.15400000000000003\n",
      "episode: 2800, rewards: 0.31599999999999995\n",
      "episode: 2820, rewards: 0\n",
      "episode: 2840, rewards: 0\n",
      "episode: 2860, rewards: 0.33399999999999996\n",
      "episode: 2880, rewards: 0\n",
      "episode: 2900, rewards: 0\n",
      "episode: 2920, rewards: 0\n",
      "episode: 2940, rewards: 0.6399999999999999\n",
      "episode: 2960, rewards: 0.118\n",
      "episode: 2980, rewards: 0.622\n",
      "episode: 3000, rewards: 0\n",
      "episode: 3020, rewards: 0\n",
      "episode: 3040, rewards: 0\n",
      "episode: 3060, rewards: 0\n",
      "episode: 3080, rewards: 0\n",
      "episode: 3100, rewards: 0.42399999999999993\n"
     ]
    }
   ],
   "source": [
    "rewards = []\n",
    "for ep in range(20000):\n",
    "    done = False\n",
    "    obs = env.reset()\n",
    "    action = agent.act(obs)\n",
    "    \n",
    "    ep_rewards = 0\n",
    "    while not done:\n",
    "        next_obs, reward, done, info = env.step(action)\n",
    "\n",
    "        next_action = agent.act(next_obs)\n",
    "\n",
    "        agent.update(obs, action, reward, next_obs, next_action)\n",
    "        \n",
    "        ep_rewards += reward\n",
    "        obs = next_obs\n",
    "        action = next_action\n",
    "    rewards.append(ep_rewards)\n",
    "    if (ep+1) % 20 == 0:\n",
    "        print(\"episode: {}, rewards: {}\".format(ep+1, ep_rewards))\n",
    "env.close()"
   ]
  },
  {
   "cell_type": "code",
   "execution_count": null,
   "id": "a086e2cd",
   "metadata": {},
   "outputs": [],
   "source": [
    "{s:np.round(q, 5).tolist() for s, q in agent.q_values.items()}"
   ]
  },
  {
   "cell_type": "code",
   "execution_count": null,
   "id": "77e3015b",
   "metadata": {},
   "outputs": [],
   "source": [
    "show_video()"
   ]
  },
  {
   "cell_type": "code",
   "execution_count": null,
   "id": "42787cff",
   "metadata": {},
   "outputs": [],
   "source": [
    "os.makedirs('./logs', exist_ok=True)\n",
    "pd.Series(rewards).to_csv('./logs/rewards_qlearning.csv')"
   ]
  },
  {
   "cell_type": "code",
   "execution_count": null,
   "id": "da141489",
   "metadata": {},
   "outputs": [],
   "source": [
    "sarsa_logs = pd.read_csv('./logs/rewards_sarsa.csv', index_col=False).iloc[:, 1]\n",
    "q_logs = pd.read_csv('./logs/rewards_qlearning.csv', index_col=False).iloc[:, 1]"
   ]
  },
  {
   "cell_type": "code",
   "execution_count": null,
   "id": "43dc92ab",
   "metadata": {},
   "outputs": [],
   "source": [
    "plt.figure(figsize=(16, 8))\n",
    "plt.plot(q_logs.cumsum() / (pd.Series(np.arange(q_logs.shape[0]))+1), label=\"QLearning\")\n",
    "plt.plot(sarsa_logs.cumsum() / (pd.Series(np.arange(sarsa_logs.shape[0]))+1), label=\"SARSA\")\n",
    "plt.legend()"
   ]
  },
  {
   "cell_type": "code",
   "execution_count": null,
   "id": "69d2dad1",
   "metadata": {},
   "outputs": [],
   "source": []
  },
  {
   "cell_type": "code",
   "execution_count": null,
   "id": "a1ab15f2",
   "metadata": {},
   "outputs": [],
   "source": []
  }
 ],
 "metadata": {
  "kernelspec": {
   "display_name": "Python 3",
   "language": "python",
   "name": "python3"
  },
  "language_info": {
   "codemirror_mode": {
    "name": "ipython",
    "version": 3
   },
   "file_extension": ".py",
   "mimetype": "text/x-python",
   "name": "python",
   "nbconvert_exporter": "python",
   "pygments_lexer": "ipython3",
   "version": "3.8.10"
  }
 },
 "nbformat": 4,
 "nbformat_minor": 5
}
